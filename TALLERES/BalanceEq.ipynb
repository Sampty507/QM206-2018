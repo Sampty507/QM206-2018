{
 "cells": [
  {
   "cell_type": "code",
   "execution_count": 1,
   "metadata": {},
   "outputs": [],
   "source": [
    "import numpy as np"
   ]
  },
  {
   "cell_type": "code",
   "execution_count": 3,
   "metadata": {},
   "outputs": [
    {
     "data": {
      "text/plain": [
       "array([0.5, 1. , 0.5])"
      ]
     },
     "execution_count": 3,
     "metadata": {},
     "output_type": "execute_result"
    }
   ],
   "source": [
    "mat=np.array([[1,0,-1],[4,0,0],[0,2,-2]])\n",
    "b=np.array([0,2,1])\n",
    "x=np.linalg.solve(mat,b)\n",
    "x"
   ]
  },
  {
   "cell_type": "code",
   "execution_count": 4,
   "metadata": {},
   "outputs": [
    {
     "data": {
      "text/plain": [
       "array([1., 2., 1.])"
      ]
     },
     "execution_count": 4,
     "metadata": {},
     "output_type": "execute_result"
    }
   ],
   "source": [
    "x*2"
   ]
  },
  {
   "cell_type": "code",
   "execution_count": 9,
   "metadata": {},
   "outputs": [
    {
     "name": "stdout",
     "output_type": "stream",
     "text": [
      "[[ 1  0 -2]\n",
      " [ 1  4 -4]\n",
      " [ 1  2  0]\n",
      " [ 0  1 -1]]\n",
      "[2. 1. 1.]\n"
     ]
    },
    {
     "name": "stderr",
     "output_type": "stream",
     "text": [
      "/home/cencina-004/Escritorio/12345/lib/python3.6/site-packages/ipykernel_launcher.py:4: FutureWarning: `rcond` parameter will change to the default of machine precision times ``max(M, N)`` where M and N are the input matrix dimensions.\n",
      "To use the future default and silence this warning we advise to pass `rcond=None`, to keep using the old, explicitly pass `rcond=-1`.\n",
      "  after removing the cwd from sys.path.\n"
     ]
    }
   ],
   "source": [
    "mat=np.array([[1,0,-2],[1,4,-4],[1,2,0],[0,1,-1]])\n",
    "print(mat)\n",
    "b=np.array([0,1,2,0])\n",
    "m=np.linalg.lstsq(mat,b)\n",
    "print(m[0]*2)"
   ]
  },
  {
   "cell_type": "code",
   "execution_count": 25,
   "metadata": {},
   "outputs": [
    {
     "name": "stdout",
     "output_type": "stream",
     "text": [
      "[[  1   0   0  -2   0   0]\n",
      " [  1   0   0   0   0  -1]\n",
      " [  4   4   4  -4 -12  -4]\n",
      " [  0   1   0   0  -2   0]\n",
      " [  0   1   1  -1  -3  -1]\n",
      " [  0   0   2   0   0   0]]\n",
      "[ 2. 10.  8.  1.  5.  2.]\n"
     ]
    }
   ],
   "source": [
    "mat=np.array([[1,0,0,-2,0,0],[1,0,0,0,0,-1],[4,4,4,-4,-12,-4],[0,1,0,0,-2,0],[0,1,1,-1,-3,-1],[0,0,2,0,0,0]])\n",
    "print(mat)\n",
    "c=np.array([0,0,1,0,0,2])\n",
    "m=np.linalg.solve(mat,c)\n",
    "print(m*4*2)"
   ]
  },
  {
   "cell_type": "code",
   "execution_count": 26,
   "metadata": {},
   "outputs": [
    {
     "data": {
      "text/plain": [
       "array([0, 0, 1, 0, 0, 2])"
      ]
     },
     "execution_count": 26,
     "metadata": {},
     "output_type": "execute_result"
    }
   ],
   "source": [
    "c"
   ]
  },
  {
   "cell_type": "code",
   "execution_count": 30,
   "metadata": {},
   "outputs": [
    {
     "data": {
      "text/plain": [
       "8.0"
      ]
     },
     "execution_count": 30,
     "metadata": {},
     "output_type": "execute_result"
    }
   ],
   "source": [
    "sum(mat[2]*m*8)/c[2]"
   ]
  },
  {
   "cell_type": "code",
   "execution_count": null,
   "metadata": {},
   "outputs": [],
   "source": []
  }
 ],
 "metadata": {
  "kernelspec": {
   "display_name": "Python 3",
   "language": "python",
   "name": "python3"
  },
  "language_info": {
   "codemirror_mode": {
    "name": "ipython",
    "version": 3
   },
   "file_extension": ".py",
   "mimetype": "text/x-python",
   "name": "python",
   "nbconvert_exporter": "python",
   "pygments_lexer": "ipython3",
   "version": "3.6.5"
  }
 },
 "nbformat": 4,
 "nbformat_minor": 2
}
