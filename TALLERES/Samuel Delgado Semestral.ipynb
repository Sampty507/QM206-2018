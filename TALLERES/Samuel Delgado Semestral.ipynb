{
 "cells": [
  {
   "cell_type": "code",
   "execution_count": 10,
   "metadata": {},
   "outputs": [],
   "source": [
    "import numpy as np\n",
    "import matplotlib.pyplot as plt\n",
    "import pandas as pd\n",
    "import math \n",
    "from math import sqrt"
   ]
  },
  {
   "cell_type": "markdown",
   "metadata": {},
   "source": [
    "## Problema #1"
   ]
  },
  {
   "cell_type": "code",
   "execution_count": 19,
   "metadata": {},
   "outputs": [
    {
     "name": "stdout",
     "output_type": "stream",
     "text": [
      "[0.88569447 0.44677234 0.98670204 0.39537317 0.34608762] [0.08299853 0.91476242 0.06128564 0.9235798  0.84281049]\n"
     ]
    }
   ],
   "source": [
    "x=np.random.rand(5)\n",
    "y=np.random.rand(5)\n",
    "print(x,y)"
   ]
  },
  {
   "cell_type": "code",
   "execution_count": 20,
   "metadata": {},
   "outputs": [],
   "source": [
    "xP1=0.85025921\n",
    "xP2=0.17358612\n",
    "xP3=0.17359286\n",
    "xP4=0.68158873\n",
    "xP5=0.16952506\n",
    "yP1=0.13466306\n",
    "yP2=0.60465288\n",
    "yP3=0.87160983\n",
    "yP4=0.83265186 \n",
    "yP5=0.32425863\n"
   ]
  },
  {
   "cell_type": "code",
   "execution_count": 21,
   "metadata": {},
   "outputs": [
    {
     "name": "stdout",
     "output_type": "stream",
     "text": [
      "0.8238791790267432 0.26695695008508424 0.5094875144334529 0.7215766615153942\n"
     ]
    }
   ],
   "source": [
    "d1=math.sqrt(abs(((xP2-xP1)*(xP2-xP1))+((yP2-yP1)*(yP2-yP1))))\n",
    "d2=math.sqrt(abs(((xP3-xP2)*(xP3-xP2))+((yP3-yP2)*(yP3-yP2))))\n",
    "d3=math.sqrt(abs(((xP4-xP3)*(xP4-xP3))+((yP4-yP3)*(yP4-yP3))))\n",
    "d4=math.sqrt(abs(((xP5-xP4)*(xP5-xP4))+((yP5-yP4)*(yP5-yP4))))\n",
    "print(d1,d2,d3,d4)"
   ]
  },
  {
   "cell_type": "code",
   "execution_count": 23,
   "metadata": {},
   "outputs": [
    {
     "data": {
      "text/plain": [
       "0.7215766615153942"
      ]
     },
     "execution_count": 23,
     "metadata": {},
     "output_type": "execute_result"
    }
   ],
   "source": [
    "np.min(d4)"
   ]
  },
  {
   "cell_type": "markdown",
   "metadata": {},
   "source": [
    "## Problema #2"
   ]
  },
  {
   "cell_type": "code",
   "execution_count": 34,
   "metadata": {},
   "outputs": [],
   "source": [
    "def potencia(x,exp):\n",
    "    resp=x**exp\n",
    "    \n",
    "    return(resp)\n",
    " "
   ]
  },
  {
   "cell_type": "code",
   "execution_count": 35,
   "metadata": {},
   "outputs": [
    {
     "data": {
      "text/plain": [
       "array([         1,          2,          4,          8,         16,\n",
       "               32,         64,        128,        256,        512,\n",
       "             1024,       2048,       4096,       8192,      16384,\n",
       "            32768,      65536,     131072,     262144,     524288,\n",
       "          1048576,    2097152,    4194304,    8388608,   16777216,\n",
       "         33554432,   67108864,  134217728,  268435456,  536870912,\n",
       "       1073741824])"
      ]
     },
     "execution_count": 35,
     "metadata": {},
     "output_type": "execute_result"
    }
   ],
   "source": [
    "x=2\n",
    "exp=np.arange(0,31,1)\n",
    "\n",
    "potencia(x, exp)"
   ]
  },
  {
   "cell_type": "markdown",
   "metadata": {},
   "source": [
    "## Problema #3"
   ]
  },
  {
   "cell_type": "code",
   "execution_count": 51,
   "metadata": {},
   "outputs": [
    {
     "name": "stdout",
     "output_type": "stream",
     "text": [
      "54\n"
     ]
    }
   ],
   "source": [
    "m=10\n",
    "n=2\n",
    "suma=[2,3,4,5,6,7,8,9,10]\n",
    "sumatoria=sum(suma)\n",
    "print(sumatoria)\n",
    "\n"
   ]
  },
  {
   "cell_type": "markdown",
   "metadata": {},
   "source": [
    "## Problema#4"
   ]
  },
  {
   "cell_type": "code",
   "execution_count": 60,
   "metadata": {},
   "outputs": [
    {
     "data": {
      "image/png": "[encoded data removed]",
      "text/plain": [
       "<Figure size 432x288 with 1 Axes>"
      ]
     },
     "metadata": {
      "needs_background": "light"
     },
     "output_type": "display_data"
    }
   ],
   "source": [
    "a=5\n",
    "b=4\n",
    "c=6\n",
    "y=(a*x**2)+(b*x)+c\n",
    "x=np.arange(-5,5,0.1)\n",
    "plt.plot(x,y)\n",
    "plt.xlabel('x')\n",
    "plt.ylabel('y')\n",
    "plt.title('y vs x')\n",
    "plt.show()\n"
   ]
  },
  {
   "cell_type": "code",
   "execution_count": 61,
   "metadata": {},
   "outputs": [
    {
     "name": "stdout",
     "output_type": "stream",
     "text": [
      "5.2\n"
     ]
    }
   ],
   "source": [
    "minimo=np.min(y)\n",
    "print(minimo)"
   ]
  },
  {
   "cell_type": "code",
   "execution_count": 62,
   "metadata": {},
   "outputs": [
    {
     "name": "stdout",
     "output_type": "stream",
     "text": [
      "145.64999999999813\n"
     ]
    }
   ],
   "source": [
    "maximo=np.max(y)\n",
    "print(maximo)"
   ]
  },
  {
   "cell_type": "code",
   "execution_count": null,
   "metadata": {},
   "outputs": [],
   "source": []
  }
 ],
 "metadata": {
  "kernelspec": {
   "display_name": "Python 3",
   "language": "python",
   "name": "python3"
  },
  "language_info": {
   "codemirror_mode": {
    "name": "ipython",
    "version": 3
   },
   "file_extension": ".py",
   "mimetype": "text/x-python",
   "name": "python",
   "nbconvert_exporter": "python",
   "pygments_lexer": "ipython3",
   "version": "3.6.6"
  }
 },
 "nbformat": 4,
 "nbformat_minor": 2
}
