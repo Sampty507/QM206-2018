{
 "cells": [
  {
   "cell_type": "code",
   "execution_count": 1,
   "metadata": {},
   "outputs": [],
   "source": [
    "import numpy as np\n",
    "import matplotlib.pyplot as plt"
   ]
  },
  {
   "cell_type": "code",
   "execution_count": 13,
   "metadata": {},
   "outputs": [],
   "source": [
    "file=open(\"Diazeno.txt\",\"r\")\n",
    "data=file.read()\n",
    "data=data.split(\"\\n\")\n",
    "mat=[] #creando un arreglo vacio\n",
    "data=data[0:-1]\n",
    "for x in data:\n",
    "    s=x.split(\",\")\n",
    "    mat.append([float(s[0]),float(s[1])])#con float se convirtio las cadenas a un numero float, de cadena a numero\n",
    "mat=np.array(mat) #esta variable tiene dos columnas una para temperatura y la otra para Cp(primera columna temp y la otra Cp)"
   ]
  },
  {
   "cell_type": "code",
   "execution_count": 14,
   "metadata": {},
   "outputs": [
    {
     "data": {
      "text/plain": [
       "(11020, 2)"
      ]
     },
     "execution_count": 14,
     "metadata": {},
     "output_type": "execute_result"
    }
   ],
   "source": [
    "mat.shape"
   ]
  },
  {
   "cell_type": "code",
   "execution_count": 22,
   "metadata": {},
   "outputs": [
    {
     "name": "stdout",
     "output_type": "stream",
     "text": [
      "[  8.8997   93.7976  -53.12099  12.1159    0.36272]\n"
     ]
    },
    {
     "data": {
      "text/plain": [
       "array([36.53915934, 36.54295555, 36.54675367, ..., 69.52547946,\n",
       "       69.52708316, 69.52868681])"
      ]
     },
     "execution_count": 22,
     "metadata": {},
     "output_type": "execute_result"
    }
   ],
   "source": [
    "T=mat[:,0]\n",
    "y=mat[:,1] #Cp experimentales\n",
    "t=T/1000\n",
    "n=len(T)\n",
    "X=np.array([np.ones(n),t,t**2,t**3,1/t**2]).T\n",
    "beta=np.linalg.inv(X.T.dot(X)).dot(X.T).dot(y)\n",
    "print(beta)\n",
    "Cp_calc=X.dot(beta)\n",
    "Cp_calc #Cp calculados"
   ]
  },
  {
   "cell_type": "code",
   "execution_count": 26,
   "metadata": {},
   "outputs": [
    {
     "data": {
      "image/png": "[encoded data removed]",
      "text/plain": [
       "<Figure size 432x288 with 1 Axes>"
      ]
     },
     "metadata": {
      "needs_background": "light"
     },
     "output_type": "display_data"
    }
   ],
   "source": [
    "plt.scatter(T,y,color=\"green\") #datos experimentales\n",
    "plt.plot(T,Cp_calc,color=\"yellow\") #Cp calculados con los coeficientes beta de la regresion\n",
    "plt.title(\"Cp vs T\")\n",
    "plt.xlabel(\"Temperatura (K)\")\n",
    "plt.ylabel(\"Cp ( J  / K-mol )\")\n",
    "plt.show()"
   ]
  },
  {
   "cell_type": "code",
   "execution_count": null,
   "metadata": {},
   "outputs": [],
   "source": []
  }
 ],
 "metadata": {
  "kernelspec": {
   "display_name": "Python 3",
   "language": "python",
   "name": "python3"
  },
  "language_info": {
   "codemirror_mode": {
    "name": "ipython",
    "version": 3
   },
   "file_extension": ".py",
   "mimetype": "text/x-python",
   "name": "python",
   "nbconvert_exporter": "python",
   "pygments_lexer": "ipython3",
   "version": "3.6.6"
  }
 },
 "nbformat": 4,
 "nbformat_minor": 2
}
